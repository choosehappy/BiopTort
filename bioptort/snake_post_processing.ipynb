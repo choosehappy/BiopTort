{
 "cells": [
  {
   "cell_type": "code",
   "execution_count": null,
   "metadata": {},
   "outputs": [],
   "source": [
    "from BiopTort import compute_snake, apply_gaussian_filter\n",
    "from scipy.interpolate import UnivariateSpline, interp1d\n",
    "import numpy as np\n",
    "import matplotlib.pyplot as plt\n",
    "import plotly.graph_objs as go\n",
    "from PIL import Image\n",
    "from shapely import LineString\n",
    "from genepy3d.obj import curves\n",
    "from shapely.validation import make_valid\n",
    "import shapely\n",
    "from shapely.geometry import LineString, Polygon"
   ]
  },
  {
   "cell_type": "code",
   "execution_count": null,
   "metadata": {},
   "outputs": [],
   "source": [
    "def filter_points_by_mask(points, mask):\n",
    "    return np.array([p for p in points if mask[int(p[0]), int(p[1])]])"
   ]
  },
  {
   "cell_type": "code",
   "execution_count": null,
   "metadata": {},
   "outputs": [],
   "source": [
    "def interpolate_points2(points):\n",
    "    # Linear length along the line:\n",
    "    distance = np.cumsum( np.sqrt(np.sum( np.diff(points, axis=0)**2, axis=1 )) )\n",
    "    distance = np.insert(distance, 0, 0)/distance[-1]\n",
    "\n",
    "    alpha = np.linspace(distance.min(), int(distance.max()), len(points) * 10)\n",
    "    interpolator = interp1d(distance, points, kind='slinear', axis=0)\n",
    "    interpolated_points = interpolator(alpha)\n",
    "\n",
    "    out_x = interpolated_points.T[0]\n",
    "    out_y = interpolated_points.T[1]\n",
    "\n",
    "    return np.vstack((out_x, out_y)).T"
   ]
  },
  {
   "cell_type": "code",
   "execution_count": null,
   "metadata": {},
   "outputs": [],
   "source": [
    "def segments_intersect(s1, s2):\n",
    "    return LineString(s1).intersects(LineString(s2))\n",
    "\n",
    "def get_segments_from_points(points):\n",
    "    segments = []\n",
    "    for i in range(len(points)-1):\n",
    "        segments.append(np.array([points[i], points[i+1]]))\n",
    "    return segments\n",
    "\n",
    "def get_points_from_segments(segments):\n",
    "    points = []\n",
    "    for s in segments:\n",
    "        points.append(s[0])\n",
    "    points.append(segments[-1][1])\n",
    "    return np.array(points)\n",
    "\n",
    "def remove_loops(points):\n",
    "    stack = []\n",
    "    loops = []\n",
    "\n",
    "    points_copy = np.copy(points)\n",
    "\n",
    "    segments = get_segments_from_points(points)\n",
    "    for i, s1 in enumerate(segments):\n",
    "        for j, s2 in enumerate(segments):\n",
    "            if segments_intersect(s1, s2): \n",
    "                if j > i + 1:   # if the segments are not adjacent we add the first segment to the stack\n",
    "                    stack.append(i)\n",
    "                elif j < i - 1:\n",
    "                    loopstart = stack.pop()\n",
    "                \n",
    "                    if len(stack) == 0:\n",
    "                        loops.append((loopstart, i))\n",
    "\n",
    "    \n",
    "    for i in reversed(loops):\n",
    "        points_copy = np.delete(points_copy, slice(i[0]+1, i[1]+1), axis=0) # not very efficient but it works\n",
    "\n",
    "    return points_copy"
   ]
  },
  {
   "cell_type": "code",
   "execution_count": null,
   "metadata": {},
   "outputs": [],
   "source": [
    "def simplify(points):\n",
    "    line = LineString(points)\n",
    "    valid_line = make_valid(line)\n",
    "    return np.array(valid_line.coords)"
   ]
  },
  {
   "cell_type": "code",
   "execution_count": null,
   "metadata": {},
   "outputs": [],
   "source": [
    "fn = \"/home/jackson/research/data/tortuosity_study/tortuosity_training_set/_1687394.svs\"\n",
    "mask_fn = \"/home/jackson/research/data/tortuosity_study/QC_results/training_set_final_run/usable_tissue_masks/_1687394.svs_mask_use.png\"\n",
    "\n",
    "snake, img, contours, rp, b, num_points = compute_snake(fn, mask_fn)\n",
    "image_array = np.array(img)\n"
   ]
  },
  {
   "cell_type": "code",
   "execution_count": null,
   "metadata": {},
   "outputs": [],
   "source": [
    "no_loops = remove_loops(snake)\n"
   ]
  },
  {
   "cell_type": "code",
   "execution_count": null,
   "metadata": {},
   "outputs": [],
   "source": [
    "# snake_out = filter_points_by_mask(snake, b)\n",
    "\n",
    "snake_out = interpolate_points2(snake)\n",
    "\n",
    "snake_out_final = apply_gaussian_filter(snake_out, 20)\n",
    "\n",
    "\n",
    "# snake_out_final = snake_out_final[0:-1:10]\n",
    "# constrain linearity in background regions\n"
   ]
  },
  {
   "cell_type": "code",
   "execution_count": null,
   "metadata": {},
   "outputs": [],
   "source": [
    "curve = curves.Curve(snake_out_final)\n",
    "curvature = curve.compute_curvature()\n",
    "log_curvature = np.log(curvature)\n",
    "\n",
    "# set y axis range to 0 to 10\n",
    "plt.ylim(0, 10)\n",
    "plt.xlabel(\"point index\")\n",
    "plt.ylabel(\"curvature\")\n",
    "plt.plot(curvature)"
   ]
  },
  {
   "cell_type": "code",
   "execution_count": null,
   "metadata": {},
   "outputs": [],
   "source": [
    "threshed = np.log(curvature)\n"
   ]
  },
  {
   "cell_type": "code",
   "execution_count": null,
   "metadata": {},
   "outputs": [],
   "source": [
    "no_loops"
   ]
  },
  {
   "cell_type": "code",
   "execution_count": null,
   "metadata": {},
   "outputs": [],
   "source": [
    "scatter_plot = go.Scatter(\n",
    "    x=no_loops[:, 1],\n",
    "    y=no_loops[:, 0],\n",
    "    mode='markers+lines',\n",
    "    marker=dict(color='yellow', \n",
    "                size=7, \n",
    "                colorbar=dict(title='Curvature (log scale)'), # Add a colorbar for curvature\n",
    "                colorscale='viridis')\n",
    ")\n",
    "\n",
    "scatter_plot3 = go.Scatter(\n",
    "    x=snake[:, 1],\n",
    "    y=snake[:, 0],\n",
    "    mode='markers+lines',\n",
    "    marker=dict(color=\"blue\", \n",
    "                size=7, \n",
    "                colorbar=dict(title='Curvature (log scale)'), # Add a colorbar for curvature\n",
    "                colorscale='viridis')\n",
    ")\n",
    "\n",
    "\n",
    "\n",
    "# Create a figure\n",
    "fig = go.Figure()\n",
    "\n",
    "# Add image as background\n",
    "fig.add_trace(go.Image(z=image_array))\n",
    "\n",
    "# Add scatter plot on top of the image\n",
    "fig.add_trace(scatter_plot)\n",
    "\n",
    "fig.add_trace(scatter_plot3)\n",
    "\n",
    "# Set layout options\n",
    "fig.update_layout(\n",
    "    xaxis=dict(showgrid=False, zeroline=False),\n",
    "    yaxis=dict(showgrid=False, zeroline=False),\n",
    "    width=image_array.shape[1],\n",
    "    height=image_array.shape[0],\n",
    "    margin=dict(l=0, r=0, t=0, b=0)\n",
    ")\n",
    "\n",
    "# Show figure\n",
    "fig.show()"
   ]
  },
  {
   "cell_type": "code",
   "execution_count": null,
   "metadata": {},
   "outputs": [],
   "source": []
  }
 ],
 "metadata": {
  "kernelspec": {
   "display_name": "env",
   "language": "python",
   "name": "python3"
  },
  "language_info": {
   "codemirror_mode": {
    "name": "ipython",
    "version": 3
   },
   "file_extension": ".py",
   "mimetype": "text/x-python",
   "name": "python",
   "nbconvert_exporter": "python",
   "pygments_lexer": "ipython3",
   "version": "3.10.12"
  },
  "orig_nbformat": 4
 },
 "nbformat": 4,
 "nbformat_minor": 2
}
