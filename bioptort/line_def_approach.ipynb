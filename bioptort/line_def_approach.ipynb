{
 "cells": [
  {
   "cell_type": "code",
   "execution_count": null,
   "id": "fd0a0b8b",
   "metadata": {},
   "outputs": [],
   "source": [
    "import os\n",
    "os.environ[\"PAQUO_QUPATH_DIR\"] = \"/opt/QuPath/bin/QuPath\"\n",
    "# os.add_dll_directory(\"C:\\\\research\\\\openslide\\\\bin\\\\\")\n",
    "from shapely.geometry import Polygon, MultiPolygon\n",
    "from centerline.geometry import Centerline\n",
    "import cv2\n",
    "from skimage.morphology import skeletonize,remove_small_holes, remove_small_objects,medial_axis, binary_erosion, binary_dilation\n",
    "from skimage.morphology import square, thin\n",
    "from skimage.draw import ellipse\n",
    "from skimage.measure import find_contours, approximate_polygon, \\\n",
    "    subdivide_polygon, label, regionprops\n",
    "from skimage.segmentation import (morphological_chan_vese,\n",
    "                                  morphological_geodesic_active_contour,\n",
    "                                  inverse_gaussian_gradient,\n",
    "                                  checkerboard_level_set)\n",
    "from scipy.ndimage import gaussian_filter, binary_fill_holes\n",
    "import math\n",
    "from skimage.morphology import convex_hull_image\n",
    "from skimage.segmentation import active_contour\n",
    "from skimage.filters import gaussian\n",
    "from scipy.ndimage import binary_dilation\n",
    "from scipy.ndimage import distance_transform_edt\n",
    "\n",
    "import openslide\n",
    "import matplotlib.pyplot as plt\n",
    "import numpy as np"
   ]
  },
  {
   "cell_type": "code",
   "execution_count": null,
   "id": "72b1082d",
   "metadata": {},
   "outputs": [],
   "source": [
    "osh  = openslide.OpenSlide(\"/home/jackson/data/tortuosity_data/_1687394.svs\")\n",
    "img=osh.read_region((0,0),2,osh.level_dimensions[2])\n",
    "#osh  = openslide.OpenSlide(\"_1687395.svs\")\n"
   ]
  },
  {
   "cell_type": "code",
   "execution_count": null,
   "id": "b314baab",
   "metadata": {},
   "outputs": [],
   "source": [
    "basewidth = 300\n",
    "wpercent = (basewidth/float(img.size[0]))\n",
    "hsize = int((float(img.size[1])*float(wpercent)))\n",
    "img = img.resize((basewidth,hsize)) "
   ]
  },
  {
   "cell_type": "code",
   "execution_count": null,
   "id": "ff2e701d",
   "metadata": {},
   "outputs": [],
   "source": [
    "b=np.asarray(img)[:,:,0]<220\n",
    "b=remove_small_holes(b,1000)\n",
    "b=remove_small_objects(b,100)\n",
    "\n",
    "point_set = []\n",
    "for contour in find_contours(b):\n",
    "    point_set.extend(contour)\n",
    "\n"
   ]
  },
  {
   "cell_type": "code",
   "execution_count": null,
   "id": "8fee0f65",
   "metadata": {},
   "outputs": [],
   "source": [
    "plt.imshow(b)"
   ]
  },
  {
   "cell_type": "code",
   "execution_count": null,
   "id": "2feccc47",
   "metadata": {},
   "outputs": [],
   "source": [
    "# b=binary_dilation(b,iterations=2)\n",
    "b = binary_erosion(b)"
   ]
  },
  {
   "cell_type": "code",
   "execution_count": null,
   "id": "beede003",
   "metadata": {},
   "outputs": [],
   "source": [
    "plt.imshow(b)"
   ]
  },
  {
   "cell_type": "code",
   "execution_count": null,
   "id": "6999e995",
   "metadata": {},
   "outputs": [],
   "source": [
    "eb=distance_transform_edt(b)\n",
    "eb = cv2.normalize(eb, None, 0, 1, cv2.NORM_MINMAX)\n",
    "eb = (eb)/2\n",
    "\n",
    "plt.imshow(eb)\n",
    "plt.colorbar()"
   ]
  },
  {
   "cell_type": "code",
   "execution_count": null,
   "id": "4a3c9ac3",
   "metadata": {},
   "outputs": [],
   "source": [
    "plt.imshow(np.logical_not(b))"
   ]
  },
  {
   "cell_type": "code",
   "execution_count": null,
   "id": "71b673d2",
   "metadata": {},
   "outputs": [],
   "source": [
    "eb2 = distance_transform_edt(np.logical_not(b))\n",
    "eb2 = cv2.normalize(eb2, None, 0, 1, cv2.NORM_MINMAX)\n",
    "eb2 = (1-eb2)/2\n",
    "plt.imshow(eb2**3)\n",
    "plt.colorbar()"
   ]
  },
  {
   "cell_type": "code",
   "execution_count": null,
   "id": "489fb6ac",
   "metadata": {},
   "outputs": [],
   "source": [
    "\n",
    "rp=regionprops(b.astype(np.uint8))[0]\n",
    "r = np.linspace(rp.bbox[1], rp.bbox[3], 200)\n",
    "c = np.linspace(rp.bbox[0], rp.bbox[2], 200)\n",
    "init = np.array([c, r]).T\n",
    "\n",
    "eb_final = eb2 + eb\n",
    "\n",
    "plt.imshow(eb_final)\n",
    "plt.colorbar()\n"
   ]
  },
  {
   "cell_type": "code",
   "execution_count": null,
   "id": "e2361ae0",
   "metadata": {},
   "outputs": [],
   "source": [
    "\n",
    "snake = active_contour(eb_final,init, alpha=0.01, beta=1, gamma=0.001,w_line=100,max_px_move=1,\n",
    "                       w_edge=0,max_num_iter=2000,convergence=.001,boundary_condition='fixed')\n",
    "%matplotlib inline\n",
    "%matplotlib inline\n",
    "plt.imshow(img)\n",
    "plt.plot(init[:, 1], init[:, 0], '--g', lw=1)\n",
    "plt.plot(snake[:, 1], snake[:, 0], lw=1)\n",
    "plt.show()"
   ]
  },
  {
   "cell_type": "code",
   "execution_count": null,
   "id": "c813c2f9",
   "metadata": {},
   "outputs": [],
   "source": [
    "plt.plot(eb[75], label='eb row 75')\n",
    "plt.plot(eb2[75], label='eb2 row 75')\n",
    "plt.plot(eb[75] + eb2[75], label='eb + eb2')\n",
    "plt.legend()"
   ]
  },
  {
   "cell_type": "code",
   "execution_count": null,
   "id": "8c2c9a17",
   "metadata": {},
   "outputs": [],
   "source": [
    "plt.plot(eb2[75])"
   ]
  },
  {
   "cell_type": "code",
   "execution_count": null,
   "id": "3e825cd1",
   "metadata": {},
   "outputs": [],
   "source": []
  },
  {
   "cell_type": "code",
   "execution_count": null,
   "id": "7911308c",
   "metadata": {},
   "outputs": [],
   "source": []
  },
  {
   "cell_type": "code",
   "execution_count": null,
   "id": "0afaeece",
   "metadata": {},
   "outputs": [],
   "source": [
    "np.linalg.norm(init[-1] - init[0])"
   ]
  },
  {
   "cell_type": "code",
   "execution_count": null,
   "id": "696b260a",
   "metadata": {},
   "outputs": [],
   "source": [
    "rp.bbox"
   ]
  },
  {
   "cell_type": "code",
   "execution_count": null,
   "id": "57cc1dc6",
   "metadata": {},
   "outputs": [],
   "source": [
    "plt.imshow(b)\n",
    "plt.plot(init[:,1],init[:,0])\n",
    "plt.show()"
   ]
  },
  {
   "cell_type": "code",
   "execution_count": null,
   "id": "30ed7e7b",
   "metadata": {},
   "outputs": [],
   "source": [
    "plt.imshow(img)"
   ]
  },
  {
   "cell_type": "code",
   "execution_count": null,
   "id": "44a43e4a",
   "metadata": {},
   "outputs": [],
   "source": [
    "np.sum(np.linalg.norm(np.diff(snake, axis=0), axis=-1))"
   ]
  }
 ],
 "metadata": {
  "kernelspec": {
   "display_name": "base",
   "language": "python",
   "name": "python3"
  },
  "language_info": {
   "codemirror_mode": {
    "name": "ipython",
    "version": 3
   },
   "file_extension": ".py",
   "mimetype": "text/x-python",
   "name": "python",
   "nbconvert_exporter": "python",
   "pygments_lexer": "ipython3",
   "version": "3.9.13"
  },
  "vscode": {
   "interpreter": {
    "hash": "5b54ec411289af8bc53476f928aaaa5206d6f6cabf302eb597da71e4d9472fb3"
   }
  }
 },
 "nbformat": 4,
 "nbformat_minor": 5
}
