{
 "cells": [
  {
   "cell_type": "markdown",
   "metadata": {},
   "source": [
    "Goal: compute the number of slides where a consensus was reached to recut the slide (all three raters labeled the slide Tier 3 or Tier 4)"
   ]
  },
  {
   "cell_type": "code",
   "execution_count": 36,
   "metadata": {},
   "outputs": [],
   "source": [
    "import pandas as pd\n",
    "import numpy as np\n",
    "import enum"
   ]
  },
  {
   "cell_type": "code",
   "execution_count": 37,
   "metadata": {},
   "outputs": [],
   "source": [
    "path = \"/media/jackson/backup/dp_data/tortuosity_study/read_csvs/score_tables/r4_scores.csv\""
   ]
  },
  {
   "cell_type": "code",
   "execution_count": 38,
   "metadata": {},
   "outputs": [],
   "source": [
    "df = pd.read_csv(path)[[\"Tilak\", \"Tuomas\", \"Xavier\"]]"
   ]
  },
  {
   "cell_type": "code",
   "execution_count": 39,
   "metadata": {},
   "outputs": [
    {
     "data": {
      "text/html": [
       "<div>\n",
       "<style scoped>\n",
       "    .dataframe tbody tr th:only-of-type {\n",
       "        vertical-align: middle;\n",
       "    }\n",
       "\n",
       "    .dataframe tbody tr th {\n",
       "        vertical-align: top;\n",
       "    }\n",
       "\n",
       "    .dataframe thead th {\n",
       "        text-align: right;\n",
       "    }\n",
       "</style>\n",
       "<table border=\"1\" class=\"dataframe\">\n",
       "  <thead>\n",
       "    <tr style=\"text-align: right;\">\n",
       "      <th></th>\n",
       "      <th>Tilak</th>\n",
       "      <th>Tuomas</th>\n",
       "      <th>Xavier</th>\n",
       "    </tr>\n",
       "  </thead>\n",
       "  <tbody>\n",
       "    <tr>\n",
       "      <th>0</th>\n",
       "      <td>3</td>\n",
       "      <td>3</td>\n",
       "      <td>3</td>\n",
       "    </tr>\n",
       "    <tr>\n",
       "      <th>1</th>\n",
       "      <td>3</td>\n",
       "      <td>3</td>\n",
       "      <td>3</td>\n",
       "    </tr>\n",
       "    <tr>\n",
       "      <th>2</th>\n",
       "      <td>1</td>\n",
       "      <td>1</td>\n",
       "      <td>1</td>\n",
       "    </tr>\n",
       "    <tr>\n",
       "      <th>3</th>\n",
       "      <td>1</td>\n",
       "      <td>1</td>\n",
       "      <td>1</td>\n",
       "    </tr>\n",
       "    <tr>\n",
       "      <th>4</th>\n",
       "      <td>1</td>\n",
       "      <td>1</td>\n",
       "      <td>1</td>\n",
       "    </tr>\n",
       "    <tr>\n",
       "      <th>...</th>\n",
       "      <td>...</td>\n",
       "      <td>...</td>\n",
       "      <td>...</td>\n",
       "    </tr>\n",
       "    <tr>\n",
       "      <th>162</th>\n",
       "      <td>1</td>\n",
       "      <td>1</td>\n",
       "      <td>2</td>\n",
       "    </tr>\n",
       "    <tr>\n",
       "      <th>163</th>\n",
       "      <td>3</td>\n",
       "      <td>3</td>\n",
       "      <td>3</td>\n",
       "    </tr>\n",
       "    <tr>\n",
       "      <th>164</th>\n",
       "      <td>3</td>\n",
       "      <td>3</td>\n",
       "      <td>3</td>\n",
       "    </tr>\n",
       "    <tr>\n",
       "      <th>165</th>\n",
       "      <td>4</td>\n",
       "      <td>4</td>\n",
       "      <td>4</td>\n",
       "    </tr>\n",
       "    <tr>\n",
       "      <th>166</th>\n",
       "      <td>1</td>\n",
       "      <td>1</td>\n",
       "      <td>1</td>\n",
       "    </tr>\n",
       "  </tbody>\n",
       "</table>\n",
       "<p>167 rows × 3 columns</p>\n",
       "</div>"
      ],
      "text/plain": [
       "     Tilak  Tuomas  Xavier\n",
       "0        3       3       3\n",
       "1        3       3       3\n",
       "2        1       1       1\n",
       "3        1       1       1\n",
       "4        1       1       1\n",
       "..     ...     ...     ...\n",
       "162      1       1       2\n",
       "163      3       3       3\n",
       "164      3       3       3\n",
       "165      4       4       4\n",
       "166      1       1       1\n",
       "\n",
       "[167 rows x 3 columns]"
      ]
     },
     "execution_count": 39,
     "metadata": {},
     "output_type": "execute_result"
    }
   ],
   "source": [
    "df"
   ]
  },
  {
   "cell_type": "code",
   "execution_count": 48,
   "metadata": {},
   "outputs": [],
   "source": [
    "arr = df.to_numpy()"
   ]
  },
  {
   "cell_type": "code",
   "execution_count": 6,
   "metadata": {},
   "outputs": [],
   "source": [
    "def majority_consensus(scores: np.ndarray, target_scores: np.ndarray, consensus_thresh: int) -> bool:\n",
    "    \"\"\"\n",
    "    Check if the number of scores matching the target scores meets or exceeds the consensus threshold.\n",
    "\n",
    "    Args:\n",
    "        scores (np.ndarray): Array of scores to check.\n",
    "        target_scores (np.ndarray): Array of target scores to match against.\n",
    "        consensus_thresh (int): Minimum number of matches required for consensus.\n",
    "\n",
    "    Returns:\n",
    "        bool: True if consensus is reached, False otherwise.\n",
    "    \"\"\"\n",
    "    count = np.isin(scores, target_scores).sum()\n",
    "    return count >= consensus_thresh\n"
   ]
  },
  {
   "cell_type": "code",
   "execution_count": 41,
   "metadata": {},
   "outputs": [],
   "source": [
    "class Tiers(enum.IntEnum):\n",
    "    TIER_1 = 1\n",
    "    TIER_2 = 2\n",
    "    TIER_3 = 3\n",
    "    TIER_4 = 4\n",
    "\n",
    "LOW_XY_TORT = [Tiers.TIER_1, Tiers.TIER_3]\n",
    "HIGH_XY_TORT = [Tiers.TIER_2, Tiers.TIER_4]\n",
    "LOW_Z_TORT = [Tiers.TIER_1, Tiers.TIER_2]\n",
    "HIGH_Z_TORT = [Tiers.TIER_3, Tiers.TIER_4]\n",
    "\n",
    "UNANIMOUS_THRESH = 3\n",
    "MAJORITY_THRESH = 2"
   ]
  },
  {
   "cell_type": "markdown",
   "metadata": {},
   "source": [
    "Test majority consensus method"
   ]
  },
  {
   "cell_type": "code",
   "execution_count": 45,
   "metadata": {},
   "outputs": [],
   "source": [
    "# Example test case\n",
    "test_scores = [Tiers.TIER_3, Tiers.TIER_3, Tiers.TIER_4]  # Example scores, the last one should be excluded\n",
    "result = majority_consensus(test_scores, HIGH_Z_TORT, UNANIMOUS_THRESH)\n",
    "assert result == True, \"Test case failed: Expected False but got True\""
   ]
  },
  {
   "cell_type": "code",
   "execution_count": 46,
   "metadata": {},
   "outputs": [
    {
     "name": "stdout",
     "output_type": "stream",
     "text": [
      "All test cases passed!\n"
     ]
    }
   ],
   "source": [
    "# Additional test cases for majority_consensus function\n",
    "\n",
    "# Test case 1: No consensus\n",
    "test_scores = [Tiers.TIER_1, Tiers.TIER_2, Tiers.TIER_3]\n",
    "result = majority_consensus(test_scores, HIGH_Z_TORT, UNANIMOUS_THRESH)\n",
    "assert result == False, \"Test case failed: Expected False but got True\"\n",
    "\n",
    "# Test case 2: Partial consensus (below threshold)\n",
    "test_scores = [Tiers.TIER_3, Tiers.TIER_4, Tiers.TIER_1]\n",
    "result = majority_consensus(test_scores, HIGH_Z_TORT, UNANIMOUS_THRESH)\n",
    "assert result == False, \"Test case failed: Expected False but got True\"\n",
    "\n",
    "# Test case 3: Exact consensus threshold\n",
    "test_scores = [Tiers.TIER_3, Tiers.TIER_4, Tiers.TIER_4]\n",
    "result = majority_consensus(test_scores, HIGH_Z_TORT, UNANIMOUS_THRESH)\n",
    "assert result == True, \"Test case failed: Expected True but got False\"\n",
    "\n",
    "# Test case 4: Above consensus threshold\n",
    "test_scores = [Tiers.TIER_4, Tiers.TIER_4, Tiers.TIER_4]\n",
    "result = majority_consensus(test_scores, HIGH_Z_TORT, UNANIMOUS_THRESH)\n",
    "assert result == True, \"Test case failed: Expected True but got False\"\n",
    "\n",
    "print(\"All test cases passed!\")"
   ]
  },
  {
   "cell_type": "code",
   "execution_count": 47,
   "metadata": {},
   "outputs": [
    {
     "name": "stdout",
     "output_type": "stream",
     "text": [
      "All test cases for HIGH_XY_TORT passed!\n"
     ]
    }
   ],
   "source": [
    "# Test cases for HIGH_XY_TORT\n",
    "\n",
    "# Test case 1: No consensus\n",
    "test_scores = [Tiers.TIER_1, Tiers.TIER_3, Tiers.TIER_3]\n",
    "result = majority_consensus(test_scores, HIGH_XY_TORT, UNANIMOUS_THRESH)\n",
    "assert result == False, \"Test case failed: Expected False but got True\"\n",
    "\n",
    "# Test case 2: Partial consensus (below threshold)\n",
    "test_scores = [Tiers.TIER_2, Tiers.TIER_4, Tiers.TIER_1]\n",
    "result = majority_consensus(test_scores, HIGH_XY_TORT, UNANIMOUS_THRESH)\n",
    "assert result == False, \"Test case failed: Expected False but got True\"\n",
    "\n",
    "# Test case 3: Exact consensus threshold\n",
    "test_scores = [Tiers.TIER_2, Tiers.TIER_4, Tiers.TIER_4]\n",
    "result = majority_consensus(test_scores, HIGH_XY_TORT, UNANIMOUS_THRESH)\n",
    "assert result == True, \"Test case failed: Expected True but got False\"\n",
    "\n",
    "# Test case 4: Above consensus threshold\n",
    "test_scores = [Tiers.TIER_4, Tiers.TIER_4, Tiers.TIER_4]\n",
    "result = majority_consensus(test_scores, HIGH_XY_TORT, UNANIMOUS_THRESH)\n",
    "assert result == True, \"Test case failed: Expected True but got False\"\n",
    "\n",
    "print(\"All test cases for HIGH_XY_TORT passed!\")"
   ]
  },
  {
   "cell_type": "markdown",
   "metadata": {},
   "source": [
    "Calculate the number of images in the final read with a 2/3 consensus"
   ]
  },
  {
   "cell_type": "code",
   "execution_count": 53,
   "metadata": {},
   "outputs": [],
   "source": [
    "threshhold = MAJORITY_THRESH\n",
    "target_scores = HIGH_Z_TORT\n",
    "consensus_slides = [index for index, scores in enumerate(arr) if majority_consensus(\n",
    "                    scores,\n",
    "                    target_scores=target_scores, \n",
    "                    consensus_thresh=threshhold)\n",
    "]\n",
    "\n"
   ]
  },
  {
   "cell_type": "markdown",
   "metadata": {},
   "source": [
    "Now check 3/3 consensus"
   ]
  },
  {
   "cell_type": "code",
   "execution_count": null,
   "metadata": {},
   "outputs": [
    {
     "data": {
      "text/plain": [
       "102"
      ]
     },
     "execution_count": 64,
     "metadata": {},
     "output_type": "execute_result"
    }
   ],
   "source": [
    "threshhold = UNANIMOUS_THRESH\n",
    "target_scores = HIGH_Z_TORT\n",
    "consensus_slides = [index for index, scores in enumerate(arr) if majority_consensus(\n",
    "                    scores,\n",
    "                    target_scores=target_scores, \n",
    "                    consensus_thresh=threshhold)\n",
    "]\n",
    "len(consensus_slides)"
   ]
  },
  {
   "cell_type": "code",
   "execution_count": null,
   "metadata": {},
   "outputs": [
    {
     "data": {
      "text/plain": [
       "65"
      ]
     },
     "execution_count": 65,
     "metadata": {},
     "output_type": "execute_result"
    }
   ],
   "source": [
    "threshhold = UNANIMOUS_THRESH\n",
    "target_scores = LOW_Z_TORT  # Replace with LOW_Z_TORT if needed\n",
    "consensus_slides = [index for index, scores in enumerate(arr) if majority_consensus(\n",
    "                    scores,\n",
    "                    target_scores=target_scores, \n",
    "                    consensus_thresh=threshhold)\n",
    "]\n",
    "len(consensus_slides)"
   ]
  },
  {
   "cell_type": "code",
   "execution_count": null,
   "metadata": {},
   "outputs": [
    {
     "data": {
      "text/plain": [
       "27"
      ]
     },
     "execution_count": 67,
     "metadata": {},
     "output_type": "execute_result"
    }
   ],
   "source": [
    "threshhold = UNANIMOUS_THRESH\n",
    "target_scores = HIGH_XY_TORT  # Replace with LOW_Z_TORT if needed\n",
    "consensus_slides = [index for index, scores in enumerate(arr) if majority_consensus(\n",
    "                    scores,\n",
    "                    target_scores=target_scores, \n",
    "                    consensus_thresh=threshhold)\n",
    "]\n",
    "len(consensus_slides)"
   ]
  },
  {
   "cell_type": "code",
   "execution_count": 69,
   "metadata": {},
   "outputs": [
    {
     "data": {
      "text/plain": [
       "103"
      ]
     },
     "execution_count": 69,
     "metadata": {},
     "output_type": "execute_result"
    }
   ],
   "source": [
    "threshhold = UNANIMOUS_THRESH\n",
    "target_scores = LOW_XY_TORT  # Replace with LOW_Z_TORT if needed\n",
    "consensus_slides = [index for index, scores in enumerate(arr) if majority_consensus(\n",
    "                    scores,\n",
    "                    target_scores=target_scores, \n",
    "                    consensus_thresh=threshhold)\n",
    "]\n",
    "len(consensus_slides)"
   ]
  },
  {
   "cell_type": "code",
   "execution_count": 72,
   "metadata": {},
   "outputs": [
    {
     "name": "stdout",
     "output_type": "stream",
     "text": [
      "Threshold: UNANIMOUS_THRESH, Target Scores: HIGH_Z_TORT, Count: 90\n",
      "Threshold: UNANIMOUS_THRESH, Target Scores: LOW_Z_TORT, Count: 60\n",
      "Threshold: UNANIMOUS_THRESH, Target Scores: HIGH_XY_TORT, Count: 15\n",
      "Threshold: UNANIMOUS_THRESH, Target Scores: LOW_XY_TORT, Count: 103\n",
      "Threshold: MAJORITY_THRESH, Target Scores: HIGH_Z_TORT, Count: 102\n",
      "Threshold: MAJORITY_THRESH, Target Scores: LOW_Z_TORT, Count: 65\n",
      "Threshold: MAJORITY_THRESH, Target Scores: HIGH_XY_TORT, Count: 27\n",
      "Threshold: MAJORITY_THRESH, Target Scores: LOW_XY_TORT, Count: 140\n"
     ]
    }
   ],
   "source": [
    "consensus_results = []\n",
    "thresholds = {\n",
    "    \"UNANIMOUS_THRESH\": UNANIMOUS_THRESH,\n",
    "    \"MAJORITY_THRESH\": MAJORITY_THRESH\n",
    "}\n",
    "target_scores_list = {\n",
    "    \"HIGH_Z_TORT\": HIGH_Z_TORT,\n",
    "    \"LOW_Z_TORT\": LOW_Z_TORT,\n",
    "    \"HIGH_XY_TORT\": HIGH_XY_TORT,\n",
    "    \"LOW_XY_TORT\": LOW_XY_TORT,\n",
    "}\n",
    "\n",
    "for threshold_key, threshold_value in thresholds.items():\n",
    "    for target_scores_key, target_scores_values in target_scores_list.items():\n",
    "        consensus_slides = [index for index, scores in enumerate(arr) if majority_consensus(\n",
    "                            scores,\n",
    "                            target_scores=target_scores_values, \n",
    "                            consensus_thresh=threshold_value)\n",
    "        ]\n",
    "        consensus_results.append({\n",
    "            \"threshold\": threshold_key,\n",
    "            \"target_scores\": target_scores_key,\n",
    "            \"count\": len(consensus_slides)\n",
    "        })\n",
    "\n",
    "for result in consensus_results:\n",
    "    print(f\"Threshold: {result['threshold']}, Target Scores: {result['target_scores']}, Count: {result['count']}\")"
   ]
  },
  {
   "cell_type": "markdown",
   "metadata": {},
   "source": []
  }
 ],
 "metadata": {
  "kernelspec": {
   "display_name": "venv",
   "language": "python",
   "name": "python3"
  },
  "language_info": {
   "codemirror_mode": {
    "name": "ipython",
    "version": 3
   },
   "file_extension": ".py",
   "mimetype": "text/x-python",
   "name": "python",
   "nbconvert_exporter": "python",
   "pygments_lexer": "ipython3",
   "version": "3.12.3"
  }
 },
 "nbformat": 4,
 "nbformat_minor": 2
}
