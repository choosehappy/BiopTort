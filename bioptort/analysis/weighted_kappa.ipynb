{
 "cells": [
  {
   "cell_type": "code",
   "execution_count": null,
   "metadata": {},
   "outputs": [],
   "source": [
    "import numpy as np\n",
    "import krippendorff\n",
    "import random\n",
    "import pandas as pd\n",
    "import os\n",
    "from tqdm import tqdm\n",
    "\n",
    "def bootstrap_krippendorff_alpha(data, level_of_measurement='nominal', n_bootstrap=1000, ci=95, seed=None):\n",
    "    \"\"\"\n",
    "    Compute Krippendorff's alpha and bootstrap confidence interval.\n",
    "\n",
    "    Parameters:\n",
    "        data (list or np.array): Raters x Items matrix. Use `None` or `np.nan` for missing values.\n",
    "        level_of_measurement (str): 'nominal', 'ordinal', or 'interval'\n",
    "        n_bootstrap (int): Number of bootstrap samples\n",
    "        ci (float): Confidence level (e.g., 95 for 95%)\n",
    "        seed (int): Random seed for reproducibility\n",
    "\n",
    "    Returns:\n",
    "        (alpha_mean, (lower_bound, upper_bound)): Point estimate and CI tuple\n",
    "    \"\"\"\n",
    "    if seed is not None:\n",
    "        np.random.seed(seed)\n",
    "        random.seed(seed)\n",
    "\n",
    "    data = np.array(data, dtype=object)\n",
    "    n_items = data.shape[1]\n",
    "    alphas = []\n",
    "\n",
    "    for _ in tqdm(range(n_bootstrap)):\n",
    "        sample_indices = np.random.choice(n_items, size=n_items, replace=True)\n",
    "        sample = data[:, sample_indices].astype(int)\n",
    "\n",
    "        alpha = krippendorff.alpha(reliability_data=sample, level_of_measurement=level_of_measurement)\n",
    "        alphas.append(alpha)\n",
    "\n",
    "    alphas = [a for a in alphas if not np.isnan(a)]\n",
    "    alpha_mean = np.mean(alphas)\n",
    "    lower = np.percentile(alphas, (100 - ci) / 2)\n",
    "    upper = np.percentile(alphas, 100 - (100 - ci) / 2)\n",
    "\n",
    "    return alpha_mean, (lower, upper)\n"
   ]
  },
  {
   "cell_type": "code",
   "execution_count": null,
   "metadata": {},
   "outputs": [],
   "source": [
    "paths = [\n",
    "    \"/media/jackson/backup/dp_data/tortuosity_study/read_csvs/score_tables/r1_scores_no_duplicates_sufficient_tissue.csv\",\n",
    "    \"/media/jackson/backup/dp_data/tortuosity_study/read_csvs/score_tables/r2_scores_no_duplicates_sufficient_tissue.csv\",\n",
    "    \"/media/jackson/backup/dp_data/tortuosity_study/read_csvs/score_tables/r4_scores.csv\"\n",
    "]"
   ]
  },
  {
   "cell_type": "code",
   "execution_count": null,
   "metadata": {},
   "outputs": [],
   "source": [
    "level_of_measurement = \"ordinal\"\n",
    "n_bootstrap = 1000\n",
    "ci = 95\n",
    "seed = 42\n",
    "for path in paths:\n",
    "    df = pd.read_csv(path)[[\"Tilak\", \"Tuomas\", \"Xavier\"]]\n",
    "    arr = df.to_numpy().T\n",
    "    # print(arr.shape)\n",
    "    alpha = krippendorff.alpha(reliability_data=arr, level_of_measurement=level_of_measurement)\n",
    "    # print(f\"Krippendorff's alpha for {os.path.basename(path)}: {alpha}\")\n",
    "    mean, bounds = bootstrap_krippendorff_alpha(arr, level_of_measurement=level_of_measurement, n_bootstrap=n_bootstrap, ci=ci, seed=seed)\n",
    "    print(f\"Krippendorff's alpha for {os.path.basename(path)}: {mean}, CI: {bounds}\")\n",
    "    \n"
   ]
  },
  {
   "cell_type": "code",
   "execution_count": null,
   "metadata": {},
   "outputs": [],
   "source": [
    "df = pd.read_csv(path)"
   ]
  },
  {
   "cell_type": "code",
   "execution_count": null,
   "metadata": {},
   "outputs": [],
   "source": [
    "df"
   ]
  },
  {
   "cell_type": "code",
   "execution_count": null,
   "metadata": {},
   "outputs": [],
   "source": [
    "\n"
   ]
  },
  {
   "cell_type": "code",
   "execution_count": null,
   "metadata": {},
   "outputs": [],
   "source": [
    "krippendorff.alpha(reliability_data=arr, level_of_measurement=level_of_measurement)"
   ]
  },
  {
   "cell_type": "code",
   "execution_count": null,
   "metadata": {},
   "outputs": [],
   "source": []
  }
 ],
 "metadata": {
  "kernelspec": {
   "display_name": "venv",
   "language": "python",
   "name": "python3"
  },
  "language_info": {
   "codemirror_mode": {
    "name": "ipython",
    "version": 3
   },
   "file_extension": ".py",
   "mimetype": "text/x-python",
   "name": "python",
   "nbconvert_exporter": "python",
   "pygments_lexer": "ipython3",
   "version": "3.12.3"
  }
 },
 "nbformat": 4,
 "nbformat_minor": 2
}
