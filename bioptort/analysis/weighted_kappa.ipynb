{
 "cells": [
  {
   "cell_type": "code",
   "execution_count": 1,
   "metadata": {},
   "outputs": [],
   "source": [
    "import numpy as np\n",
    "import krippendorff\n",
    "import random\n",
    "import pandas as pd\n",
    "import os\n",
    "from tqdm import tqdm\n",
    "\n",
    "def bootstrap_krippendorff_alpha(data, level_of_measurement='nominal', n_bootstrap=1000, ci=95, seed=None):\n",
    "    \"\"\"\n",
    "    Compute Krippendorff's alpha and bootstrap confidence interval.\n",
    "\n",
    "    Parameters:\n",
    "        data (list or np.array): Raters x Items matrix. Use `None` or `np.nan` for missing values.\n",
    "        level_of_measurement (str): 'nominal', 'ordinal', or 'interval'\n",
    "        n_bootstrap (int): Number of bootstrap samples\n",
    "        ci (float): Confidence level (e.g., 95 for 95%)\n",
    "        seed (int): Random seed for reproducibility\n",
    "\n",
    "    Returns:\n",
    "        (alpha_mean, (lower_bound, upper_bound)): Point estimate and CI tuple\n",
    "    \"\"\"\n",
    "    if seed is not None:\n",
    "        np.random.seed(seed)\n",
    "        random.seed(seed)\n",
    "\n",
    "    data = np.array(data, dtype=object)\n",
    "    n_items = data.shape[1]\n",
    "    alphas = []\n",
    "\n",
    "    for _ in tqdm(range(n_bootstrap)):\n",
    "        sample_indices = np.random.choice(n_items, size=n_items, replace=True)\n",
    "        sample = data[:, sample_indices].astype(int)\n",
    "\n",
    "        alpha = krippendorff.alpha(reliability_data=sample, level_of_measurement=level_of_measurement)\n",
    "        alphas.append(alpha)\n",
    "\n",
    "    alphas = [a for a in alphas if not np.isnan(a)]\n",
    "    alpha_mean = np.mean(alphas)\n",
    "    lower = np.percentile(alphas, (100 - ci) / 2)\n",
    "    upper = np.percentile(alphas, 100 - (100 - ci) / 2)\n",
    "\n",
    "    return alpha_mean, (lower, upper)\n"
   ]
  },
  {
   "cell_type": "code",
   "execution_count": 2,
   "metadata": {},
   "outputs": [],
   "source": [
    "paths = [\n",
    "    \"/media/jackson/backup/dp_data/tortuosity_study/read_csvs/score_tables/r1_scores_no_duplicates_sufficient_tissue.csv\",\n",
    "    \"/media/jackson/backup/dp_data/tortuosity_study/read_csvs/score_tables/r2_scores_no_duplicates_sufficient_tissue.csv\",\n",
    "    \"/media/jackson/backup/dp_data/tortuosity_study/read_csvs/score_tables/r4_scores.csv\",\n",
    "    \"/media/jackson/backup/dp_data/tortuosity_study/read_csvs/score_tables/clinically_relevant_measures/r2_XY_tort_no_duplicates_sufficient_tissue.csv\",\n",
    "    '/media/jackson/backup/dp_data/tortuosity_study/read_csvs/score_tables/clinically_relevant_measures/r4_XY_tort.csv' ,\n",
    "    '/media/jackson/backup/dp_data/tortuosity_study/read_csvs/score_tables/clinically_relevant_measures/r2_Z_tort_no_duplicates_sufficient_tissue.csv',\n",
    "    '/media/jackson/backup/dp_data/tortuosity_study/read_csvs/score_tables/clinically_relevant_measures/r4_Z_tort.csv'\n",
    "]"
   ]
  },
  {
   "cell_type": "code",
   "execution_count": 4,
   "metadata": {},
   "outputs": [
    {
     "name": "stderr",
     "output_type": "stream",
     "text": [
      "100%|██████████| 1000/1000 [00:00<00:00, 10208.37it/s]\n"
     ]
    },
    {
     "name": "stdout",
     "output_type": "stream",
     "text": [
      "Krippendorff's alpha for r1_scores_no_duplicates_sufficient_tissue.csv: 0.4515760805715565, CI: (np.float64(0.3765710474530537), np.float64(0.5242951425111722))\n"
     ]
    },
    {
     "name": "stderr",
     "output_type": "stream",
     "text": [
      "100%|██████████| 1000/1000 [00:00<00:00, 9501.52it/s]\n"
     ]
    },
    {
     "name": "stdout",
     "output_type": "stream",
     "text": [
      "Krippendorff's alpha for r2_scores_no_duplicates_sufficient_tissue.csv: 0.6123486660211434, CI: (np.float64(0.5196668301525161), np.float64(0.7011836738688119))\n"
     ]
    },
    {
     "name": "stderr",
     "output_type": "stream",
     "text": [
      "100%|██████████| 1000/1000 [00:00<00:00, 9510.46it/s]\n"
     ]
    },
    {
     "name": "stdout",
     "output_type": "stream",
     "text": [
      "Krippendorff's alpha for r4_scores.csv: 0.8132396391449956, CI: (np.float64(0.7495972219855822), np.float64(0.8677948606738737))\n"
     ]
    },
    {
     "name": "stderr",
     "output_type": "stream",
     "text": [
      "100%|██████████| 1000/1000 [00:00<00:00, 11235.60it/s]\n"
     ]
    },
    {
     "name": "stdout",
     "output_type": "stream",
     "text": [
      "Krippendorff's alpha for r2_XY_tort_no_duplicates_sufficient_tissue.csv: 0.29392297277010104, CI: (np.float64(0.18650945563126864), np.float64(0.40122996514126996))\n"
     ]
    },
    {
     "name": "stderr",
     "output_type": "stream",
     "text": [
      "100%|██████████| 1000/1000 [00:00<00:00, 10192.45it/s]\n"
     ]
    },
    {
     "name": "stdout",
     "output_type": "stream",
     "text": [
      "Krippendorff's alpha for r4_XY_tort.csv: 0.4130829472943725, CI: (np.float64(0.2835878189375023), np.float64(0.5426122346740311))\n"
     ]
    },
    {
     "name": "stderr",
     "output_type": "stream",
     "text": [
      "100%|██████████| 1000/1000 [00:00<00:00, 11148.30it/s]\n"
     ]
    },
    {
     "name": "stdout",
     "output_type": "stream",
     "text": [
      "Krippendorff's alpha for r2_Z_tort_no_duplicates_sufficient_tissue.csv: 0.6456773991148345, CI: (np.float64(0.5441647575598982), np.float64(0.7428389017379409))\n"
     ]
    },
    {
     "name": "stderr",
     "output_type": "stream",
     "text": [
      "100%|██████████| 1000/1000 [00:00<00:00, 11206.48it/s]"
     ]
    },
    {
     "name": "stdout",
     "output_type": "stream",
     "text": [
      "Krippendorff's alpha for r4_Z_tort.csv: 0.8592938257124119, CI: (np.float64(0.7890259355669426), np.float64(0.9224958302680499))\n"
     ]
    },
    {
     "name": "stderr",
     "output_type": "stream",
     "text": [
      "\n"
     ]
    }
   ],
   "source": [
    "level_of_measurement = \"ordinal\"\n",
    "n_bootstrap = 1000\n",
    "ci = 95\n",
    "seed = 42\n",
    "for path in paths:\n",
    "    df = pd.read_csv(path)[[\"Tilak\", \"Tuomas\", \"Xavier\"]]\n",
    "    arr = df.to_numpy().T\n",
    "    # print(arr.shape)\n",
    "    alpha = krippendorff.alpha(reliability_data=arr, level_of_measurement=level_of_measurement)\n",
    "    # print(f\"Krippendorff's alpha for {os.path.basename(path)}: {alpha}\")\n",
    "    mean, bounds = bootstrap_krippendorff_alpha(arr, level_of_measurement=level_of_measurement, n_bootstrap=n_bootstrap, ci=ci, seed=seed)\n",
    "    print(f\"Krippendorff's alpha for {os.path.basename(path)}: {mean}, CI: {bounds}\")\n",
    "    \n"
   ]
  },
  {
   "cell_type": "code",
   "execution_count": null,
   "metadata": {},
   "outputs": [],
   "source": [
    "df = pd.read_csv(path)"
   ]
  },
  {
   "cell_type": "code",
   "execution_count": null,
   "metadata": {},
   "outputs": [],
   "source": [
    "df"
   ]
  },
  {
   "cell_type": "code",
   "execution_count": null,
   "metadata": {},
   "outputs": [],
   "source": [
    "krippendorff.alpha(reliability_data=arr, level_of_measurement=level_of_measurement)"
   ]
  }
 ],
 "metadata": {
  "kernelspec": {
   "display_name": "venv",
   "language": "python",
   "name": "python3"
  },
  "language_info": {
   "codemirror_mode": {
    "name": "ipython",
    "version": 3
   },
   "file_extension": ".py",
   "mimetype": "text/x-python",
   "name": "python",
   "nbconvert_exporter": "python",
   "pygments_lexer": "ipython3",
   "version": "3.12.3"
  }
 },
 "nbformat": 4,
 "nbformat_minor": 2
}
