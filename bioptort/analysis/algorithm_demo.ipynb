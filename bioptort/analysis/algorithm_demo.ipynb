{
 "cells": [
  {
   "cell_type": "code",
   "execution_count": null,
   "metadata": {},
   "outputs": [],
   "source": [
    "from BiopTort import compute_snake, \\\n",
    "    calculate_grade, \\\n",
    "    filter_contours, \\\n",
    "    remove_loops, \\\n",
    "    interpolate_points, \\\n",
    "    remove_background_points, \\\n",
    "    apply_gaussian_filter\n",
    "    \n",
    "import matplotlib.pyplot as plt\n",
    "import numpy as np\n",
    "import os"
   ]
  },
  {
   "cell_type": "code",
   "execution_count": null,
   "metadata": {},
   "outputs": [],
   "source": [
    "image_num = '_1687428'\n",
    "fn = f'/media/jackson/backup/dp_data/tortuosity_study/tortuosity_training_set/{image_num}.svs'\n",
    "mask_filepath = f'/media/jackson/backup/dp_data/tortuosity_study/QC_results/training_set_final_run/usable_tissue_masks/{image_num}.svs_mask_use.png'\n",
    "savedir = f'./algorithm_demo_output/{image_num}'"
   ]
  },
  {
   "cell_type": "code",
   "execution_count": null,
   "metadata": {},
   "outputs": [],
   "source": [
    "if not os.path.exists(savedir):\n",
    "    os.mkdir(savedir)\n",
    "else:\n",
    "    print('Directory already exists.')"
   ]
  },
  {
   "cell_type": "code",
   "execution_count": null,
   "metadata": {},
   "outputs": [],
   "source": [
    "snake, img, contours, rp, b, num_points = compute_snake(fn, mask_path=mask_filepath)"
   ]
  },
  {
   "cell_type": "code",
   "execution_count": null,
   "metadata": {},
   "outputs": [],
   "source": [
    "# display contours\n",
    "fmts = ['c', '#ffa530', 'y', 'k', 'm', '#918211','#e875fa', '#b5d9ff', '#ffb5bb', '#3e754d', '#0014c7']\n",
    "# plt.imshow(b)\n",
    "for i, c in enumerate(contours):\n",
    "    plt.plot(c.T[1],-1 * c.T[0], fmts[i % len(fmts)], label=f'contour {i + 1}')\n",
    "    # plt.fill(c.T[1], c.T[0], facecolor=f'white', alpha=1, label=f'contour {i + 1}')\n",
    "\n",
    "plt.axis('equal')\n",
    "plt.axis('off')\n",
    "plt.legend(fontsize=6)\n",
    "plt.savefig(f'{savedir}/contours.png', dpi=600)\n"
   ]
  },
  {
   "cell_type": "code",
   "execution_count": null,
   "metadata": {},
   "outputs": [],
   "source": [
    "# display contours\n",
    "fmts = ['c', '#ffa530', 'y', 'k', 'm', '#918211','#e875fa', '#b5d9ff', '#ffb5bb', '#3e754d', '#0014c7']\n",
    "# plt.imshow(b)\n",
    "for i, c in enumerate(contours):\n",
    "    plt.plot(c.T[1],-1 * c.T[0], fmts[i % len(fmts)], label=f'contour {i + 1}')\n",
    "    # plt.fill(c.T[1], c.T[0], facecolor=f'white', alpha=1, label=f'contour {i + 1}')\n",
    "\n",
    "plt.axis('equal')\n",
    "plt.axis('off')\n",
    "plt.legend(fontsize=6)\n",
    "\n",
    "plt.plot(snake[:, 1], -1 * snake[:, 0], 'r', label='snake')\n",
    "plt.savefig(f'{savedir}/contours_snake.png', dpi=600)"
   ]
  },
  {
   "cell_type": "code",
   "execution_count": null,
   "metadata": {},
   "outputs": [],
   "source": [
    "# ------------- REMOVE LOOPS -------------\n",
    "snake = remove_loops(snake)\n",
    "# ------------- SNAKE SMOOTHING -------------\n",
    "snake = interpolate_points(snake, num_points)\n",
    "snake = remove_background_points(snake, b)\n",
    "snake = apply_gaussian_filter(snake, sigma=20)\n",
    "\n",
    "snake = snake[0:-1:10]\n",
    "\n",
    "# display contours\n",
    "fmts = ['c', '#ffa530', 'y', 'k', 'm', '#918211','#e875fa', '#b5d9ff', '#ffb5bb', '#3e754d', '#0014c7']\n",
    "# plt.imshow(b)\n",
    "for i, c in enumerate(contours):\n",
    "    plt.plot(c.T[1],-1 * c.T[0], fmts[i % len(fmts)], label=f'contour {i + 1}')\n",
    "    # plt.fill(c.T[1], c.T[0], facecolor=f'white', alpha=1, label=f'contour {i + 1}')\n",
    "\n",
    "plt.axis('equal')\n",
    "plt.axis('off')\n",
    "plt.legend(fontsize=6)\n",
    "plt.plot(snake[:, 1], -1 * snake[:, 0], 'r', label='snake')\n",
    "plt.savefig(f'{savedir}/contours_snake_smoothed.png', dpi=600)"
   ]
  },
  {
   "cell_type": "code",
   "execution_count": null,
   "metadata": {},
   "outputs": [],
   "source": [
    "# ------------- CALCULATE XY TORTUOSITY -------------\n",
    "L = np.sum(np.linalg.norm(np.diff(snake, axis=0), axis=-1))\n",
    "L_cumu = np.cumsum(np.linalg.norm(np.diff(snake, axis=0), axis=-1))\n",
    "L_0 = np.linalg.norm(snake[-1] - snake[0])\n",
    "xy_tortuosity = round(L / L_0, 4)\n",
    "# --------------------------------------------------------\n",
    "\n",
    "# calculate two boundaries. One at the 10th percentile of the snake and one at the 90th percentile.\n",
    "beginning = None\n",
    "end = (500,500)\n",
    "\n",
    "for i in range(len(snake)):\n",
    "    if beginning is None and L_cumu[i] > L * 0.1:\n",
    "        beginning = snake[i]\n",
    "    if L_cumu[i] > L * 0.9:\n",
    "        end = snake[i]\n",
    "        break\n",
    "vect = np.array([np.sin(-1 * rp.orientation), np.cos(rp.orientation)])\n",
    "bound1 = np.array([beginning - vect * 100, beginning + vect * 100])\n",
    "bound2 = np.array([end - vect * 100, end + vect * 100])\n",
    "\n",
    "print(f'bound1: {bound1}')\n",
    "\n",
    "# filter contours\n",
    "filtered_contours = filter_contours(contours, (beginning, end), rp.orientation, snake)\n",
    "\n",
    "# ------------- CALCULATE GRADE -------------\n",
    "b_gap_count = len(filtered_contours) - 1\n",
    "pred_grade = calculate_grade(xy_tortuosity, b_gap_count)\n",
    "print(f'xy_tortuosity: {xy_tortuosity}')\n",
    "# --------------------------------------------------------\n",
    "\n",
    "\n",
    "# create plot\n",
    "plt.imshow(np.ones((3, img.size[0], img.size[1])).T * 255)\n",
    "fmts = ['c', '#ffa530', 'y', 'k', 'm', '#918211','#e875fa', '#b5d9ff', '#ffb5bb', '#3e754d', '#0014c7']\n",
    "print(f'# of filtered contours: {len(filtered_contours)}')\n",
    "for i, c in enumerate(filtered_contours):\n",
    "    plt.plot(c.T[1],c.T[0], fmts[i % len(fmts)], label=f'contour {i + 1}')\n",
    "\n",
    "    # plt.fill(c.T[1], c.T[0], facecolor=f'{fmts[i]}', alpha=0.6, label=f'contour {i + 1}')\n",
    "    \n",
    "\n",
    "plt.scatter(snake[:, 1], snake[:, 0], marker='+', label='L', c='r', s=1)\n",
    "# plt.plot(snake[:, 1], snake[:, 0], label='L', c='r', lw=1)\n",
    "plt.plot([snake[0,1], snake[-1,1]], [snake[0,0], snake[-1,0]], '--b', lw=1, label='L_0')\n",
    "plt.plot(bound1[:, 1], bound1[:, 0], 'g', lw=1, label='10th percentile of L')\n",
    "plt.plot(bound2[:, 1], bound2[:, 0], 'g', lw=1, label='90th percentile of L')\n",
    "plt.legend(fontsize=6)\n",
    "plt.axis('off')\n",
    "plt.savefig(f'{savedir}/contours_snake_smoothed_filtered.png', dpi=600)"
   ]
  },
  {
   "cell_type": "code",
   "execution_count": null,
   "metadata": {},
   "outputs": [],
   "source": [
    "# create plot\n",
    "plt.imshow(img)\n",
    "fmts = ['c', '#ffa530', 'y', 'k', 'm', '#918211','#e875fa', '#b5d9ff', '#ffb5bb', '#3e754d', '#0014c7']\n",
    "print(f'# of filtered contours: {len(filtered_contours)}')\n",
    "for i, c in enumerate(filtered_contours):\n",
    "    # plt.plot(c.T[1], c.T[0], f'-.',\n",
    "    #          c=f'{fmts[i]}', lw=1, label=f'contour {i}')\n",
    "\n",
    "    plt.fill(c.T[1], c.T[0], facecolor=f'{fmts[i]}', alpha=0.6, label=f'contour {i + 1}')\n",
    "    \n",
    "\n",
    "plt.scatter(snake[:, 1], snake[:, 0], marker='+', label='L', c='r', s=1)\n",
    "# plt.plot(snake[:, 1], snake[:, 0], label='L', c='r', lw=1)\n",
    "plt.plot([snake[0,1], snake[-1,1]], [snake[0,0], snake[-1,0]], '--b', lw=1, label='L_0')\n",
    "plt.plot(bound1[:, 1], bound1[:, 0], 'g', lw=1, label='10th percentile of L')\n",
    "plt.plot(bound2[:, 1], bound2[:, 0], 'g', lw=1, label='90th percentile of L')\n",
    "plt.legend(fontsize=6)\n",
    "plt.savefig(f'{savedir}/contours_snake_smoothed_filtered.png', dpi=600)"
   ]
  },
  {
   "cell_type": "code",
   "execution_count": null,
   "metadata": {},
   "outputs": [],
   "source": []
  }
 ],
 "metadata": {
  "kernelspec": {
   "display_name": "env",
   "language": "python",
   "name": "python3"
  },
  "language_info": {
   "codemirror_mode": {
    "name": "ipython",
    "version": 3
   },
   "file_extension": ".py",
   "mimetype": "text/x-python",
   "name": "python",
   "nbconvert_exporter": "python",
   "pygments_lexer": "ipython3",
   "version": "3.10.12"
  }
 },
 "nbformat": 4,
 "nbformat_minor": 2
}
