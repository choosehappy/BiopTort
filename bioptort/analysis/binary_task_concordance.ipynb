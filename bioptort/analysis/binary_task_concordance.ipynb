{
 "cells": [
  {
   "cell_type": "code",
   "execution_count": 1,
   "metadata": {},
   "outputs": [],
   "source": [
    "import enum\n",
    "import pandas as pd"
   ]
  },
  {
   "cell_type": "markdown",
   "metadata": {},
   "source": [
    "Define mapping methods"
   ]
  },
  {
   "cell_type": "code",
   "execution_count": 5,
   "metadata": {},
   "outputs": [],
   "source": [
    "class Tiers(enum.Enum):\n",
    "    \"\"\"\n",
    "    Enum for the different tiers of tortuosity.\n",
    "    \"\"\"\n",
    "    TIER_1 = 1\n",
    "    TIER_2 = 2\n",
    "    TIER_3 = 3\n",
    "    TIER_4 = 4\n",
    "\n",
    "def tiered_score_to_binary_XY_tortuosity(score: int) -> int:\n",
    "    match score:\n",
    "        case Tiers.TIER_1.value | Tiers.TIER_3.value:\n",
    "            return 0  # Low XY tortuosity\n",
    "        case Tiers.TIER_2.value | Tiers.TIER_4.value:\n",
    "            return 1  # High XY tortuosity\n",
    "        case _:\n",
    "            raise ValueError(\"Invalid tier score\")\n",
    "\n",
    "\n",
    "def tiered_score_to_binary_Z_tortuosity(score: int) -> int:\n",
    "    match score:\n",
    "        case Tiers.TIER_1.value | Tiers.TIER_2.value:\n",
    "            return 0  # Low tortuosity\n",
    "        case Tiers.TIER_3.value | Tiers.TIER_4.value:\n",
    "            return 1  # High tortuosity\n",
    "        case _:\n",
    "            raise ValueError(\"Invalid tier score\")\n"
   ]
  },
  {
   "cell_type": "code",
   "execution_count": 3,
   "metadata": {},
   "outputs": [],
   "source": [
    "# Convert the r2 tiered scores to binary XY tortuosity scores\n",
    "\n",
    "path = \"/media/jackson/backup/dp_data/tortuosity_study/read_csvs/score_tables/r2_scores_no_duplicates_sufficient_tissue.csv\"\n",
    "outputpath = \"/media/jackson/backup/dp_data/tortuosity_study/read_csvs/score_tables/clinically_relevant_measures/r2_XY_tort_no_duplicates_sufficient_tissue.csv\"\n",
    "df = pd.read_csv(path)\n",
    "df.map(tiered_score_to_binary_XY_tortuosity).to_csv(outputpath, index=False)\n",
    "\n",
    "# Repeat for r4 tiered scores\n",
    "path = '/media/jackson/backup/dp_data/tortuosity_study/read_csvs/score_tables/r4_scores.csv' \n",
    "outputpath = '/media/jackson/backup/dp_data/tortuosity_study/read_csvs/score_tables/clinically_relevant_measures/r4_XY_tort.csv' \n",
    "df = pd.read_csv(path)\n",
    "df.map(tiered_score_to_binary_XY_tortuosity).to_csv(outputpath, index=False)\n"
   ]
  },
  {
   "cell_type": "code",
   "execution_count": 6,
   "metadata": {},
   "outputs": [],
   "source": [
    "# Now do the same for Z tortuosity scores\n",
    "path = '/media/jackson/backup/dp_data/tortuosity_study/read_csvs/score_tables/r2_scores_no_duplicates_sufficient_tissue.csv'\n",
    "outputpath = '/media/jackson/backup/dp_data/tortuosity_study/read_csvs/score_tables/clinically_relevant_measures/r2_Z_tort_no_duplicates_sufficient_tissue.csv'\n",
    "df = pd.read_csv(path)\n",
    "df.map(tiered_score_to_binary_Z_tortuosity).to_csv(outputpath, index=False)\n",
    "\n",
    "\n",
    "# Repeat for r4 tiered scores\n",
    "path = '/media/jackson/backup/dp_data/tortuosity_study/read_csvs/score_tables/r4_scores.csv'\n",
    "outputpath = '/media/jackson/backup/dp_data/tortuosity_study/read_csvs/score_tables/clinically_relevant_measures/r4_Z_tort.csv'\n",
    "df = pd.read_csv(path)\n",
    "df.map(tiered_score_to_binary_Z_tortuosity).to_csv(outputpath, index=False)"
   ]
  },
  {
   "cell_type": "code",
   "execution_count": null,
   "metadata": {},
   "outputs": [],
   "source": []
  }
 ],
 "metadata": {
  "kernelspec": {
   "display_name": "venv",
   "language": "python",
   "name": "python3"
  },
  "language_info": {
   "codemirror_mode": {
    "name": "ipython",
    "version": 3
   },
   "file_extension": ".py",
   "mimetype": "text/x-python",
   "name": "python",
   "nbconvert_exporter": "python",
   "pygments_lexer": "ipython3",
   "version": "3.12.3"
  }
 },
 "nbformat": 4,
 "nbformat_minor": 2
}
