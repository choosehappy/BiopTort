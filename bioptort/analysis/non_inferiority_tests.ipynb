{
 "cells": [
  {
   "cell_type": "code",
   "execution_count": 1,
   "metadata": {},
   "outputs": [],
   "source": [
    "import numpy as np\n",
    "import statsmodels.stats.api as sms\n",
    "import matplotlib.pyplot as plt\n",
    "import matplotlib"
   ]
  },
  {
   "cell_type": "code",
   "execution_count": 2,
   "metadata": {},
   "outputs": [],
   "source": [
    "# READ 2\n",
    "bioptort_metrics = [0.37, 0.43, 0.35] # bioptort-human pairwise concordance\n",
    "readers_metrics = [0.34, 0.54, 0.41] # human-human pairwise concordance\n",
    "alpha = 0.05\n"
   ]
  },
  {
   "cell_type": "code",
   "execution_count": 3,
   "metadata": {},
   "outputs": [],
   "source": [
    "def calculate_margins(bioptort_metrics, readers_metrics, alpha=0.05):\n",
    "    # Calculate the mean sensitivity of the Raters\n",
    "    mean_readers_metrics = np.mean(readers_metrics)\n",
    "    mean_bioptort_metrics = np.mean(bioptort_metrics)\n",
    "\n",
    "    # Calculate the 95% CI for the mean human-human pairwise concordance\n",
    "    ci_lower_humans, ci_upper_humans = sms.DescrStatsW(readers_metrics).tconfint_mean(alpha=alpha)\n",
    "\n",
    "    # Calculate the 95% CI for the mean human-bioptort concordance\n",
    "    ci_lower_bioptort, ci_upper_bioptort = sms.DescrStatsW(bioptort_metrics).tconfint_mean(alpha=alpha)\n",
    "    \n",
    "    return (mean_readers_metrics, (ci_lower_humans, ci_upper_humans), mean_bioptort_metrics, (ci_lower_bioptort, ci_upper_bioptort))"
   ]
  },
  {
   "cell_type": "code",
   "execution_count": 4,
   "metadata": {},
   "outputs": [
    {
     "name": "stdout",
     "output_type": "stream",
     "text": [
      "Difference in average concordance: -0.04666666666666669\n",
      "Mean human-human concordance: 0.43 (0.1778875572974145, 0.6821124427025855)\n",
      "Mean human-bioptort concordance: 0.3833333333333333 (0.27991043307859853, 0.4867562335880681)\n"
     ]
    }
   ],
   "source": [
    "mean_humans, ci_humans, mean_BT, ci_BT = calculate_margins(bioptort_metrics, readers_metrics, alpha=alpha)\n",
    "print(f\"Difference in average concordance: {mean_BT - mean_humans}\")\n",
    "print(f\"Mean human-human concordance: {mean_humans} {ci_humans}\")\n",
    "print(f\"Mean human-bioptort concordance: {mean_BT} {ci_BT}\")\n"
   ]
  },
  {
   "cell_type": "code",
   "execution_count": 19,
   "metadata": {},
   "outputs": [
    {
     "data": {
      "image/png": "[encoded data removed]",
      "text/plain": [
       "<Figure size 600x200 with 1 Axes>"
      ]
     },
     "metadata": {},
     "output_type": "display_data"
    }
   ],
   "source": [
    "fig, ax = plt.subplots()\n",
    "fig.set_size_inches(6, 2)\n",
    "\n",
    "plt.rc('axes', titlesize=8)     # Axes title size\n",
    "plt.rc('axes', labelsize=7)     # Axes labels size\n",
    "plt.rc('xtick', labelsize=7)    # X-tick labels size\n",
    "plt.rc('ytick', labelsize=7)    # Y-tick labels size\n",
    "plt.rc('legend', fontsize=7)    # Legend font size\n",
    "# plt.rc('figure', titlesize=7)   # Figure title size\n",
    "\n",
    "difference = mean_BT - mean_humans\n",
    "yerr = np.abs((ci_BT[0] - ci_BT[1]) / 2)\n",
    "non_inferiority_margin = (ci_humans[0] - ci_humans[1]) / 2\n",
    "\n",
    "# Plot the difference and its CI, but invert the axes\n",
    "ax.errorbar(difference, 1, xerr=yerr, fmt='o', capsize=5, label='BiopTort-Human concordance difference')\n",
    "\n",
    "# Plot the non-inferiority margin\n",
    "ax.axvline(x=non_inferiority_margin, color='r', linestyle='--', label='Non-Inferiority Margin')\n",
    "\n",
    "ax.axvline(x=0, color='black', linestyle='-')\n",
    "\n",
    "# Labels and title\n",
    "ax.set_ylabel('Read 2: Protocol')\n",
    "ax.set_xlabel('Difference in mean concordance (BiopTort - Average Raters)')\n",
    "ax.set_title('Non-Inferiority Test for BiopTort vs. Human Raters')\n",
    "ax.legend()\n",
    "\n",
    "# Set y-axis ticks\n",
    "ax.set_yticks([1])\n",
    "ax.set_yticklabels([''])\n",
    "bbox = matplotlib.transforms.Bbox([[0.4, -0.3], [5.5, 2]])\n",
    "plt.savefig('figures/non_inferiority_test.png', dpi=600, bbox_inches=bbox, pad_inches=0.1)\n",
    "plt.show()\n"
   ]
  },
  {
   "cell_type": "code",
   "execution_count": null,
   "metadata": {},
   "outputs": [],
   "source": []
  }
 ],
 "metadata": {
  "kernelspec": {
   "display_name": "base",
   "language": "python",
   "name": "python3"
  },
  "language_info": {
   "codemirror_mode": {
    "name": "ipython",
    "version": 3
   },
   "file_extension": ".py",
   "mimetype": "text/x-python",
   "name": "python",
   "nbconvert_exporter": "python",
   "pygments_lexer": "ipython3",
   "version": "3.10.12"
  }
 },
 "nbformat": 4,
 "nbformat_minor": 2
}
