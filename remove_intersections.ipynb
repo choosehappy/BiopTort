{
 "cells": [
  {
   "cell_type": "code",
   "execution_count": null,
   "metadata": {},
   "outputs": [],
   "source": [
    "import matplotlib.pyplot as plt\n",
    "import numpy as np\n",
    "from shapely.geometry import LineString"
   ]
  },
  {
   "cell_type": "code",
   "execution_count": null,
   "metadata": {},
   "outputs": [],
   "source": [
    "def segments_intersect(s1, s2):\n",
    "    return LineString(s1).intersects(LineString(s2))\n",
    "\n",
    "def get_segments_from_points(points):\n",
    "    segments = []\n",
    "    for i in range(len(points)-1):\n",
    "        segments.append(np.array([points[i], points[i+1]]))\n",
    "    return segments\n",
    "\n",
    "def get_points_from_segments(segments):\n",
    "    points = []\n",
    "    for s in segments:\n",
    "        points.append(s[0])\n",
    "    points.append(segments[-1][1])\n",
    "    return np.array(points)\n",
    "\n",
    "def remove_intersections(points):\n",
    "    stack = []\n",
    "    loops = []\n",
    "\n",
    "    points_copy = np.copy(points)\n",
    "\n",
    "    segments = get_segments_from_points(points)\n",
    "    for i, s1 in enumerate(segments):\n",
    "        for j, s2 in enumerate(segments):\n",
    "            if segments_intersect(s1, s2): \n",
    "                if j > i + 1:   # if the segments are not adjacent we add the first segment to the stack\n",
    "                    stack.append(i)\n",
    "                elif j < i - 1:\n",
    "                    loopstart = stack.pop()\n",
    "                \n",
    "                    if len(stack) == 0:\n",
    "                        loops.append((loopstart, i))\n",
    "\n",
    "    for i in reversed(loops):\n",
    "        points_copy = np.delete(points_copy, slice(i[0]+1, i[1]+1), axis=0)\n",
    "\n",
    "    return points_copy"
   ]
  },
  {
   "cell_type": "code",
   "execution_count": null,
   "metadata": {},
   "outputs": [],
   "source": [
    "arr = np.array([0,1,1,2,3,3,4,5])"
   ]
  },
  {
   "cell_type": "code",
   "execution_count": null,
   "metadata": {},
   "outputs": [],
   "source": [
    "reversed(np.unique(arr))"
   ]
  },
  {
   "cell_type": "code",
   "execution_count": null,
   "metadata": {},
   "outputs": [],
   "source": [
    "# problem_example = np.array([(0,0), (0,-1), (0,-3), (1,-1), (1,-3), (2,-2), (-1,-2),(-3,-2),(-2, -3), (-2, 0)])\n",
    "problem_example = np.array([(-56.8217793676305, -8.88299365847671), (-113.643558735261, -17.7659873169534),\n",
    "(-56.6527353669234, -25.4905092205507), (-109.059870307362, -1.80265591606324),\n",
    "(-65.6069009172882, -39.4783992800045), (-96.4819575546674,  9.04327695318884),\n",
    "(-65.6069009172882, -39.4783992800045), (-109.059870307362, -1.80265591606324),\n",
    "(-56.6527353669234, -25.4905092205507), (-94.6466176124818, -20.3408279514859),\n",
    "(-151.468396980112, -29.2238216099626)])"
   ]
  },
  {
   "cell_type": "code",
   "execution_count": null,
   "metadata": {},
   "outputs": [],
   "source": [
    "plt.plot(problem_example[:,0], problem_example[:,1], '--b', marker='o')"
   ]
  },
  {
   "cell_type": "code",
   "execution_count": null,
   "metadata": {},
   "outputs": [],
   "source": [
    "get_segments_from_points(problem_example)"
   ]
  },
  {
   "cell_type": "code",
   "execution_count": null,
   "metadata": {},
   "outputs": [],
   "source": [
    "segments = get_segments_from_points(problem_example)\n",
    "s1 = segments[0]\n",
    "s2 = segments[2]\n"
   ]
  },
  {
   "cell_type": "code",
   "execution_count": null,
   "metadata": {},
   "outputs": [],
   "source": [
    "plt.plot(s1[:,0], s1[:,1], '--r', marker='o')\n",
    "plt.plot(s2[:,0], s2[:,1], '--r', marker='o')"
   ]
  },
  {
   "cell_type": "code",
   "execution_count": null,
   "metadata": {},
   "outputs": [],
   "source": [
    "segments_intersect(s1, s2)"
   ]
  },
  {
   "cell_type": "code",
   "execution_count": null,
   "metadata": {},
   "outputs": [],
   "source": [
    "no_intersections = remove_intersections(problem_example)\n"
   ]
  },
  {
   "cell_type": "code",
   "execution_count": null,
   "metadata": {},
   "outputs": [],
   "source": [
    "no_intersections"
   ]
  },
  {
   "cell_type": "code",
   "execution_count": null,
   "metadata": {},
   "outputs": [],
   "source": [
    "plt.plot(no_intersections[:,0], no_intersections[:,1], '--b', marker='o')"
   ]
  },
  {
   "cell_type": "code",
   "execution_count": null,
   "metadata": {},
   "outputs": [],
   "source": []
  }
 ],
 "metadata": {
  "kernelspec": {
   "display_name": "env",
   "language": "python",
   "name": "python3"
  },
  "language_info": {
   "codemirror_mode": {
    "name": "ipython",
    "version": 3
   },
   "file_extension": ".py",
   "mimetype": "text/x-python",
   "name": "python",
   "nbconvert_exporter": "python",
   "pygments_lexer": "ipython3",
   "version": "3.10.12"
  },
  "orig_nbformat": 4
 },
 "nbformat": 4,
 "nbformat_minor": 2
}
