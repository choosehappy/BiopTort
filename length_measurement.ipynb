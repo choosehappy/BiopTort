{
 "cells": [
  {
   "cell_type": "code",
   "execution_count": null,
   "metadata": {},
   "outputs": [],
   "source": [
    "import numpy as np\n",
    "import shapely\n",
    "import matplotlib.pyplot as plt\n",
    "import shapely\n",
    "from scipy.interpolate import splrep, BSpline\n",
    "import scipy.interpolate as interpolate "
   ]
  },
  {
   "cell_type": "code",
   "execution_count": null,
   "metadata": {},
   "outputs": [],
   "source": [
    "num_points = 50\n",
    "snakex = np.linspace(0,1000,num_points)\n",
    "snakey1 = np.zeros(num_points)\n",
    "jitter = np.random.uniform(-5,5,num_points)\n",
    "newline = shapely.LineString(np.vstack((snakex,jitter)).T).simplify(3)\n",
    "sorted_jitter = np.sort(jitter)\n",
    "cumulative_sorted_jitter = np.cumsum(sorted_jitter)"
   ]
  },
  {
   "cell_type": "code",
   "execution_count": null,
   "metadata": {},
   "outputs": [],
   "source": [
    "plt.scatter(snakex,jitter, s=1)\n",
    "plt.xlim(0,1000)\n",
    "plt.ylim(-500,500)"
   ]
  },
  {
   "cell_type": "code",
   "execution_count": null,
   "metadata": {},
   "outputs": [],
   "source": [
    "plt.scatter(snakex,cumulative_sorted_jitter, s=1)\n",
    "plt.xlim(0,1000)\n",
    "plt.ylim(-500,500)"
   ]
  },
  {
   "cell_type": "code",
   "execution_count": null,
   "metadata": {},
   "outputs": [],
   "source": [
    "# plot linestring\n",
    "plt.scatter(newline.xy[0],newline.xy[1], color='r', s=1)\n",
    "plt.xlim(0,1000)\n",
    "plt.ylim(-500,500)"
   ]
  },
  {
   "cell_type": "code",
   "execution_count": null,
   "metadata": {},
   "outputs": [],
   "source": [
    "# plot linestring with sorted jitter\n",
    "plt.scatter(newline.xy[0],np.cumsum(np.sort(newline.xy[1])), color='r', s=1)\n",
    "plt.xlim(0,1000)\n",
    "plt.ylim(-500,500)"
   ]
  },
  {
   "cell_type": "code",
   "execution_count": null,
   "metadata": {},
   "outputs": [],
   "source": [
    "plt.scatter(snakex, snakey2, s=1)\n",
    "plt.xlim(0,1000)\n",
    "plt.ylim(-500,500)"
   ]
  },
  {
   "cell_type": "code",
   "execution_count": null,
   "metadata": {},
   "outputs": [],
   "source": [
    "L = shapely.length(shapely.LineString(snake))"
   ]
  },
  {
   "cell_type": "code",
   "execution_count": null,
   "metadata": {},
   "outputs": [],
   "source": [
    "t = np.arange(0, 1.1, .1)\n",
    "noise = np.random.uniform(-0.1,0.1, len(t))\n",
    "x = np.sin(2*np.pi*t) + noise\n",
    "y = 3*t +noise\n",
    "tck, u = interpolate.splprep([x, y], s=0)\n",
    "unew = np.arange(0, 1.01, 0.01)\n",
    "out = interpolate.splev(unew, tck)\n",
    "plt.figure()\n",
    "plt.plot(x, y, 'x', out[0], out[1], x, y, 'b')\n",
    "plt.legend(['Linear', 'Cubic Spline', 'True'])\n",
    "plt.title('Spline of parametrically-defined curve')\n",
    "plt.show()"
   ]
  },
  {
   "cell_type": "code",
   "execution_count": null,
   "metadata": {},
   "outputs": [],
   "source": [
    "x"
   ]
  },
  {
   "cell_type": "code",
   "execution_count": null,
   "metadata": {},
   "outputs": [],
   "source": [
    "y"
   ]
  },
  {
   "cell_type": "code",
   "execution_count": null,
   "metadata": {},
   "outputs": [],
   "source": [
    "from scipy.ndimage import gaussian_filter1d, uniform_filter1d"
   ]
  },
  {
   "cell_type": "code",
   "execution_count": null,
   "metadata": {},
   "outputs": [],
   "source": [
    "plt.plot(x, y)"
   ]
  },
  {
   "cell_type": "code",
   "execution_count": null,
   "metadata": {},
   "outputs": [],
   "source": [
    "sigma = 2\n",
    "x_filtered = gaussian_filter1d(x, sigma=sigma)\n",
    "y_filtered = gaussian_filter1d(y, sigma=sigma)\n",
    "plt.plot(x_filtered, y_filtered)"
   ]
  },
  {
   "cell_type": "code",
   "execution_count": null,
   "metadata": {},
   "outputs": [],
   "source": [
    "reconstructed_snake = np.vstack((x_filtered, y_filtered)).T"
   ]
  },
  {
   "cell_type": "code",
   "execution_count": null,
   "metadata": {},
   "outputs": [],
   "source": [
    "reconstructed_snake.T"
   ]
  },
  {
   "cell_type": "code",
   "execution_count": null,
   "metadata": {},
   "outputs": [],
   "source": [
    "import glob\n",
    "import os\n",
    "import pandas as pd\n",
    "import matplotlib.pyplot as plt"
   ]
  },
  {
   "cell_type": "code",
   "execution_count": null,
   "metadata": {},
   "outputs": [],
   "source": [
    "## plot tortuosity values for different values of sigma\n",
    "\n",
    "path = \"/home/jackson/research/data/tortuosity_study/powerpoints/training_set\"\n",
    "imgnames = None\n",
    "fns = sorted(glob.glob(os.path.join(path, \"*.csv\")))\n",
    "df = pd.DataFrame()\n",
    "for fn in fns :\n",
    "    csv = pd.read_csv(fn)\n",
    "    if not imgnames :\n",
    "        imgnames = [fn.split('_')[-1] for fn in csv['filename'].to_list()]\n",
    "    df[fn.split('_')[-1].split('.csv')[0]] = csv['tortuosity']\n"
   ]
  },
  {
   "cell_type": "code",
   "execution_count": null,
   "metadata": {},
   "outputs": [],
   "source": [
    "fns"
   ]
  },
  {
   "cell_type": "code",
   "execution_count": null,
   "metadata": {},
   "outputs": [],
   "source": [
    "df"
   ]
  },
  {
   "cell_type": "code",
   "execution_count": null,
   "metadata": {},
   "outputs": [],
   "source": [
    "df.transpose().plot()\n",
    "# set plot height\n",
    "plt.gcf().set_size_inches(10, 15)\n",
    "plt.title(\"Training set tortuosity values for increasing sigma values\")\n",
    "plt.xlabel(\"sigma\")\n",
    "plt.ylabel(\"tortuosity\")\n",
    "plt.legend(imgnames, loc='center left', bbox_to_anchor=(1.0, 0.5), )\n"
   ]
  },
  {
   "cell_type": "code",
   "execution_count": null,
   "metadata": {},
   "outputs": [],
   "source": []
  }
 ],
 "metadata": {
  "kernelspec": {
   "display_name": "env",
   "language": "python",
   "name": "python3"
  },
  "language_info": {
   "codemirror_mode": {
    "name": "ipython",
    "version": 3
   },
   "file_extension": ".py",
   "mimetype": "text/x-python",
   "name": "python",
   "nbconvert_exporter": "python",
   "pygments_lexer": "ipython3",
   "version": "3.10.12"
  },
  "orig_nbformat": 4
 },
 "nbformat": 4,
 "nbformat_minor": 2
}
