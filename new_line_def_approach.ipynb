{
 "cells": [
  {
   "cell_type": "code",
   "execution_count": null,
   "metadata": {},
   "outputs": [],
   "source": [
    "import os\n",
    "from skimage.morphology import remove_small_holes, remove_small_objects, binary_dilation, binary_erosion\n",
    "from skimage.measure import regionprops, find_contours\n",
    "from skimage.segmentation import active_contour\n",
    "from scipy.ndimage import binary_dilation, distance_transform_edt, binary_fill_holes\n",
    "from scipy.spatial.distance import cdist\n",
    "import openslide\n",
    "import matplotlib.pyplot as plt\n",
    "import numpy as np\n",
    "import glob\n",
    "from pptx import Presentation\n",
    "from pptx.util import Inches\n",
    "from io import BytesIO\n",
    "from PIL import Image, ImageDraw\n",
    "from tqdm import tqdm\n",
    "import cv2"
   ]
  },
  {
   "cell_type": "code",
   "execution_count": null,
   "metadata": {},
   "outputs": [],
   "source": [
    "def closest_farthest_points(origin, point_set):\n",
    "    \"\"\"Calculate the closest and furthest point in a set from a specified origin.\n",
    "\n",
    "    Args:\n",
    "        origin (list): list of length 2 \n",
    "        point_set (list): list of shape (N,2)\n",
    "\n",
    "    Returns:\n",
    "        tuple: a tuple containing the closest point and the farthest point.\n",
    "    \"\"\"    \n",
    "    distance_metric = lambda x: (x[0] - origin[0])**2 + (x[1] - origin[1])**2 # no need to sqrt for comparing distances\n",
    "    closest = min(point_set, key=distance_metric)\n",
    "    farthest = max(point_set, key=distance_metric)\n",
    "\n",
    "    return closest, farthest "
   ]
  },
  {
   "cell_type": "code",
   "execution_count": null,
   "metadata": {},
   "outputs": [],
   "source": [
    "# def weighted_mass_gradient(binary_mask:np.ndarray):\n",
    "#     out_arr = np.zeros(binary_mask.shape)\n",
    "#     coords_set = np.array(np.nonzero(binary_mask)).T\n",
    "#     coords_set_complement = np.array(np.nonzero(np.logical_not(binary_mask))).T\n",
    "    \n",
    "#     for o in tqdm(coords_set_complement):\n",
    "        \n",
    "#         shifted = coords_set - o\n",
    "#         out_arr[o[0]][o[1]] = sum(1/ np.linalg.norm(shifted, axis=1) ** 2)\n",
    "    \n",
    "#     return out_arr\n"
   ]
  },
  {
   "cell_type": "code",
   "execution_count": null,
   "metadata": {},
   "outputs": [],
   "source": [
    "def windowed_weighted_mass_gradient(binary_mask:np.ndarray, w=20, breadth=2):\n",
    "    out_arr = np.zeros(binary_mask.shape)\n",
    "    coords_set_complement = np.array(np.nonzero(np.logical_not(binary_mask))).T\n",
    "\n",
    "    padded = np.zeros(np.add(binary_mask.shape, w*2))\n",
    "    padded[w:-w, w:-w] = binary_mask\n",
    "    \n",
    "    for i,o in tqdm(enumerate(coords_set_complement)):\n",
    "        row_min = o[0]\n",
    "        row_max = o[0] + 2 * w\n",
    "        col_min = o[1]\n",
    "        col_max = o[1] + 2 * w\n",
    "\n",
    "        windowed_coords_set = padded[row_min:row_max, col_min:col_max]\n",
    "        shifted = np.array(np.nonzero(windowed_coords_set)).T - w\n",
    "        out_arr[o[0]][o[1]] = sum(1/ np.linalg.norm(shifted, axis=1) ** breadth)# / windowed_coords_set.size\n",
    "\n",
    "    return out_arr + binary_mask * out_arr.max()"
   ]
  },
  {
   "cell_type": "code",
   "execution_count": null,
   "metadata": {},
   "outputs": [],
   "source": [
    "def adjust_starting_line(b, l, angle):\n",
    "    \"\"\"Adjust the location of each point until it is touching tissue. \n",
    "\n",
    "    Args:\n",
    "        b (ndarray): the binary mask\n",
    "        l (ndarray): the coordinates of L \n",
    "        angle (float): the angle of orientation of the tissue.\n",
    "\n",
    "    Returns:\n",
    "        ndarray: the new coordinates of the starting line.\n",
    "    \"\"\"    \n",
    "    new_l = []\n",
    "\n",
    "    # calculate the movement vector from the angle in row col space\n",
    "    movement_vect = np.array([np.sin(-1 * angle), np.cos(angle)])\n",
    "\n",
    "    def check_bounds(point, b):   \n",
    "        return point[0] >= 0 and point[1] >= 0 and point[0] < b.shape[0] and point[1] < b.shape[1]\n",
    "    \n",
    "    for point in l:\n",
    "        hit = False\n",
    "        n = np.copy(point)\n",
    "        p = np.copy(point)\n",
    "\n",
    "        # if the point is already touching tissue, add it to the new list.\n",
    "        while not hit and (check_bounds(n, b) and check_bounds(p, b)):    # check if the point is within the bounds of the image\n",
    "            if b[int(n[0]), int(n[1])]:\n",
    "                new_l.append(n)\n",
    "                hit = True\n",
    "            elif b[int(p[0]), int(p[1])]:\n",
    "                new_l.append(p)\n",
    "                hit = True\n",
    "            else:\n",
    "                n -= movement_vect * 3\n",
    "                p += movement_vect * 3\n",
    "\n",
    "        # if not hit:\n",
    "        #     new_l.append(point)\n",
    "            \n",
    "    return np.array(new_l)"
   ]
  },
  {
   "cell_type": "code",
   "execution_count": null,
   "metadata": {},
   "outputs": [],
   "source": [
    "# import concurrent\n",
    "# from more_itertools import grouper\n",
    "# def weighted_mass_gradient_concurrent(binary_mask, num_workers, group_size=100):\n",
    "#     out_arr = np.zeros(binary_mask.shape)\n",
    "#     coords_set = np.array(np.nonzero(binary_mask)).T\n",
    "#     coords_set_complement = np.array(np.nonzero(np.logical_not(binary_mask))).T\n",
    "\n",
    "#     def main_loop(coords_set_complement):\n",
    "#         for origin in coords_set_complement:\n",
    "#             shifted = coords_set - origin\n",
    "#             force = sum(1/np.linalg.norm(shifted, axis=1) ** 2)\n",
    "#             out_arr[origin[0], origin[1]] = force\n",
    "\n",
    "#     executor = concurrent.futures.ProcessPoolExecutor(num_workers)\n",
    "#     groups = grouper(coords_set_complement, group_size)\n",
    "#     futures = [executor.submit(main_loop, group) for group in groups]\n",
    "#     concurrent.futures.wait(futures)\n",
    "\n",
    "#     return out_arr\n"
   ]
  },
  {
   "cell_type": "code",
   "execution_count": null,
   "metadata": {},
   "outputs": [],
   "source": [
    "# def weighted_mass_gradient(binary_mask:np.ndarray, pbar=None):\n",
    "#     if pbar is not None:\n",
    "#         pbar.update(1)\n",
    "    \n",
    "#     coords_set = np.array(np.nonzero(binary_mask)).T\n",
    "#     inv_coords_set = np.array(np.nonzero(np.logical_not(binary_mask))).T\n",
    "    \n",
    "#     def inverse_sum_over_coords_vect(origin):\n",
    "#         c = coords_set - origin\n",
    "#         return sum(1/(np.linalg.norm(c, axis=1)**2))\n",
    "\n",
    "#     inverse_sums = np.vectorize(inverse_sum_over_coords_vect, signature='(m,n)->(m)')\n",
    "    \n",
    "#     return inverse_sums(inv_coords_set)\n"
   ]
  },
  {
   "cell_type": "code",
   "execution_count": null,
   "metadata": {},
   "outputs": [],
   "source": [
    "image = Image.new('1', (100, 100))\n",
    "draw = ImageDraw.Draw(image)\n",
    "draw.ellipse((20, 20, 60, 60), fill = 'white', outline ='white')\n",
    "i = np.array(image)\n",
    "plt.imshow(i)"
   ]
  },
  {
   "cell_type": "code",
   "execution_count": null,
   "metadata": {},
   "outputs": [],
   "source": [
    "im = windowed_weighted_mass_gradient(i, 80, breadth=1)\n",
    "im2 = windowed_weighted_mass_gradient(i, 80, breadth=1.5)\n",
    "im3 = windowed_weighted_mass_gradient(i, 80, breadth=2)\n",
    "im4 = windowed_weighted_mass_gradient(i, 80, breadth=0.2)\n"
   ]
  },
  {
   "cell_type": "code",
   "execution_count": null,
   "metadata": {},
   "outputs": [],
   "source": [
    "plt.imshow(im)"
   ]
  },
  {
   "cell_type": "code",
   "execution_count": null,
   "metadata": {},
   "outputs": [],
   "source": [
    "plt.plot(im[50])"
   ]
  },
  {
   "cell_type": "code",
   "execution_count": null,
   "metadata": {},
   "outputs": [],
   "source": [
    "\n",
    "fn = '/home/jackson/data/tortuosity_data/_1687394.svs'\n",
    "\n",
    "fname = fn.split('/')[-1]\n",
    "osh = openslide.OpenSlide(fn)\n",
    "print(f'Working on file: {fn}')\n",
    "print(f'Level dimensions: {osh.level_dimensions}')\n",
    "\n",
    "img = osh.read_region((0, 0), 2, osh.level_dimensions[2])\n",
    "basewidth = 1000\n",
    "wpercent = (basewidth/float(img.size[0]))\n",
    "hsize = int((float(img.size[1])*float(wpercent)))\n",
    "img = img.resize((basewidth, hsize))\n",
    "b = np.asarray(img)[:, :, 0] < 200\n",
    "\n",
    "b = remove_small_holes(b, 1000)\n",
    "b = remove_small_objects(b, 100)\n",
    "\n",
    "# find contours using a gently dilated binary mask.\n",
    "contours = find_contours(binary_fill_holes(\n",
    "    binary_dilation(b, iterations=2)))\n",
    "b_gap_count = len(contours) - 1\n",
    "\n",
    "# aggressive binary dilation to close gaps\n",
    "b = binary_dilation(b, iterations=3)\n",
    "# b = binary_erosion(b, footprint=np.ones((9, 9)))\n",
    "\n",
    "\n",
    "# compute the distance transform and normalize to the range [0, 0.5]\n",
    "eb = distance_transform_edt(b)\n",
    "eb = cv2.normalize(eb, None, 0, 1, cv2.NORM_MINMAX) / 2\n",
    "\n",
    "# perform a similar computation on the inverted mask. Negate and normalize to the same range.\n",
    "e_inv_b = distance_transform_edt(np.logical_not(b))\n",
    "e_inv_b = (1 - cv2.normalize(e_inv_b, None, 0, 1, cv2.NORM_MINMAX)) / 2\n",
    "\n",
    "# physics-based alternative\n",
    "# e_inv_b = windowed_weighted_mass_gradient(b, 40, 0.5)\n",
    "# e_inv_b = (cv2.normalize(e_inv_b, None, 0, 1, cv2.NORM_MINMAX)) / 2\n",
    "\n",
    "\n",
    "# sum the two distributions\n",
    "eb_total = eb + e_inv_b\n"
   ]
  },
  {
   "cell_type": "code",
   "execution_count": null,
   "metadata": {},
   "outputs": [],
   "source": [
    "\n",
    "plt.imshow(eb_total)\n",
    "# x = np.arange(eb_total.shape[1])\n",
    "# y = -1.49 * x + 1362\n",
    "# y = np.array(y, dtype=int)\n",
    "# y = np.clip(y, 0, eb_total.shape[0] - 1)\n",
    "# plt.plot(x,y)\n"
   ]
  },
  {
   "attachments": {},
   "cell_type": "markdown",
   "metadata": {},
   "source": [
    "$F=\\sum \\frac{GMm}{r^2} \\longrightarrow F=\\sum \\frac{m}{r^2}$"
   ]
  },
  {
   "cell_type": "code",
   "execution_count": null,
   "metadata": {},
   "outputs": [],
   "source": [
    "plt.plot(eb_total[y, x][500:700], label=\"eb + eb inverse\")\n",
    "plt.plot(eb[y, x][500:700], label=\"eb\")\n",
    "plt.plot(e_inv_b[y, x][500:700], label=\"eb inverse\")\n",
    "plt.legend()"
   ]
  },
  {
   "cell_type": "code",
   "execution_count": null,
   "metadata": {},
   "outputs": [],
   "source": [
    "\n",
    "rp = regionprops(b.astype(np.uint8))[0]\n",
    "print(rp.orientation)\n",
    "if rp.orientation <= 0:\n",
    "    rc_start = (rp.bbox[0], rp.bbox[3])\n",
    "else:\n",
    "    rc_start = (rp.bbox[0], rp.bbox[1])\n",
    "\n",
    "contour_points = []\n",
    "for contour in contours:\n",
    "    contour_points.extend(contour)\n",
    "\n",
    "closest, farthest = closest_farthest_points(rc_start, contour_points)\n",
    "\n",
    "r = np.linspace(closest[0], farthest[0], 200)\n",
    "c = np.linspace(closest[1], farthest[1], 200)\n",
    "\n",
    "init = np.array([r, c]).T\n"
   ]
  },
  {
   "cell_type": "code",
   "execution_count": null,
   "metadata": {},
   "outputs": [],
   "source": [
    "init_adjusted = adjust_starting_line(b, init, rp.orientation)\n"
   ]
  },
  {
   "cell_type": "code",
   "execution_count": null,
   "metadata": {},
   "outputs": [],
   "source": [
    "plt.plot(init_adjusted[:, 1], init_adjusted[:, 0], '.b', lw=1, label='L_0')"
   ]
  },
  {
   "cell_type": "code",
   "execution_count": null,
   "metadata": {},
   "outputs": [],
   "source": [
    "\n",
    "print(f'Region Props bounding box: {rp.bbox}')\n",
    "snake = active_contour(eb_total, init_adjusted, alpha=0.001, beta=.3, gamma=0.001, w_line=50, max_px_move=1,\n",
    "                    w_edge=0, max_num_iter=1000, convergence=.01, boundary_condition='fixed')\n",
    "\n",
    "# snake2 = active_contour(eb, snake, alpha=.1, beta=.1, gamma=0.001, w_line=10, max_px_move=1,\n",
    "#                     w_edge=0, max_num_iter=1000, convergence=.005, boundary_condition='fixed')\n",
    "\n",
    "\n",
    "# calculate tortuosity in the xy plane\n",
    "L = np.sum(np.linalg.norm(np.diff(snake, axis=0), axis=-1))\n",
    "L_0 = np.linalg.norm(init[-1] - init[0])\n",
    "xy_tortuosity = round(L / L_0, 4)\n",
    "print(f'xy_tortuosity: {xy_tortuosity}')\n",
    "\n",
    "# create plot\n",
    "plt.imshow(img)\n",
    "fmts = ['c', 'm', 'y', 'k', '#e875fa', '#b5d9ff', '#ffb5bb', '#ffa530', '#3e754d', '#0014c7', '#918211']\n",
    "print(f'# of contours: {len(contours)}')\n",
    "for i, c in enumerate(contours):\n",
    "    plt.plot(c.T[1], c.T[0], f'-.',\n",
    "                c=f'{fmts[i]}', lw=1, label=f'contour {i}')\n",
    "\n",
    "plt.plot(snake[:, 1], snake[:, 0], '.r', lw=1, label='L')\n",
    "plt.plot(init_adjusted[:, 1], init_adjusted[:, 0], '.b', lw=1, label='L_0')\n",
    "# plt.plot(snake2[:, 1], snake2[:, 0], 'g', lw=1, label='L')\n",
    "plt.plot(init[:, 1], init[:, 0], '--b', lw=1, label='L_0')\n",
    "plt.legend()\n",
    "plt.title(\n",
    "    f'Filename: {fname}\\nTortuosity (L/L_0): {xy_tortuosity}\\nNumber of gaps: {b_gap_count}')"
   ]
  },
  {
   "cell_type": "code",
   "execution_count": null,
   "metadata": {},
   "outputs": [],
   "source": []
  }
 ],
 "metadata": {
  "kernelspec": {
   "display_name": "base",
   "language": "python",
   "name": "python3"
  },
  "language_info": {
   "codemirror_mode": {
    "name": "ipython",
    "version": 3
   },
   "file_extension": ".py",
   "mimetype": "text/x-python",
   "name": "python",
   "nbconvert_exporter": "python",
   "pygments_lexer": "ipython3",
   "version": "3.9.13"
  },
  "orig_nbformat": 4,
  "vscode": {
   "interpreter": {
    "hash": "5b54ec411289af8bc53476f928aaaa5206d6f6cabf302eb597da71e4d9472fb3"
   }
  }
 },
 "nbformat": 4,
 "nbformat_minor": 2
}
